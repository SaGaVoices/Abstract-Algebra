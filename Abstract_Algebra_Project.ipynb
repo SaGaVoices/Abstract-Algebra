{
 "cells": [
  {
   "cell_type": "code",
   "execution_count": 1,
   "metadata": {},
   "outputs": [],
   "source": [
    "import sympy"
   ]
  },
  {
   "cell_type": "code",
   "execution_count": 10,
   "metadata": {},
   "outputs": [],
   "source": [
    "def encrypt(t, p, q, block):\n",
    "    \n",
    "    assert(sympy.isprime(p) and sympy.isprime(q))\n",
    "    \n",
    "    a = str(pow(block, t, p*q))\n",
    "    \n",
    "    return (4-len(a))*'0' + a"
   ]
  },
  {
   "cell_type": "code",
   "execution_count": 25,
   "metadata": {},
   "outputs": [],
   "source": [
    "def decrypt(s, t, p, q, block):\n",
    "    \n",
    "    assert(sympy.isprime(p) and sympy.isprime(q))\n",
    "    \n",
    "    a = str(pow(block, s, p*q))\n",
    "    \n",
    "    return (4-len(a))*'0' + a"
   ]
  },
  {
   "cell_type": "code",
   "execution_count": 15,
   "metadata": {},
   "outputs": [],
   "source": [
    "def encryptAll(t, p, q, text):\n",
    "    \n",
    "    text = text.lower()\n",
    "    L = []\n",
    "    for character in text:\n",
    "        number = ord(character) - 97\n",
    "        L.append(number)\n",
    "    \n",
    "    L = list(filter(lambda a: a>=0 and a<=25, L))\n",
    "    \n",
    "    output = []\n",
    "    \n",
    "    if(len(L)%2 != 0):\n",
    "        L.append(23)\n",
    "        \n",
    "    for i in range(0,len(L),2):\n",
    "        output.append(encrypt(t, p, q, int((2-len(str(L[i])))*'0' + str(L[i]) + (2-len(str(L[i+1])))*'0' + str(L[i+1]))))\n",
    "            \n",
    "    return output"
   ]
  },
  {
   "cell_type": "code",
   "execution_count": 26,
   "metadata": {},
   "outputs": [],
   "source": [
    "def decryptAll(t, p, q, text):\n",
    "    \n",
    "    L = text.split(' ')\n",
    "    assert(len(L)%2 == 0)\n",
    "    \n",
    "    dcr = []\n",
    "    s = sympy.mod_inverse(t, (p-1)*(q-1))\n",
    "    \n",
    "    for i in range(0, len(L)):\n",
    "        dcr.append(decrypt(s, t, p, q, int(L[i])))\n",
    "        \n",
    "    output = []\n",
    "    \n",
    "    for i in range(len(dcr)):\n",
    "        output.append(chr(int(dcr[i][0:2]) + 97) + chr(int(dcr[i][2:4]) + 97))\n",
    "    \n",
    "    return output"
   ]
  },
  {
   "cell_type": "code",
   "execution_count": 29,
   "metadata": {},
   "outputs": [
    {
     "name": "stdout",
     "output_type": "stream",
     "text": [
      "Public key, t is: 23\n",
      "Public key, p (prime) is: 37\n",
      "Public key, q (prime) is: 59\n",
      "Write the text to be enrypted: never give up\n",
      "Encrypted text is: ['0404', '1867', '0950', '1304', '0964', '1215']\n",
      "Write the text to be decrypted in form of blocks: 0404 1867 0950 1304 0964 1215\n",
      "Decrypted text is: ['ne', 've', 'rg', 'iv', 'eu', 'px']\n"
     ]
    }
   ],
   "source": [
    "if __name__ == '__main__':\n",
    "    \n",
    "    t = int(input('Public key, t is: '))\n",
    "    p = int(input('Public key, p (prime) is: '))\n",
    "    q = int(input('Public key, q (prime) is: '))\n",
    "    \n",
    "    text = input('Write the text to be enrypted: ')\n",
    "    print('Encrypted text is:', encryptAll(t, p, q, text))\n",
    "    \n",
    "    eText = input('Write the text to be decrypted in form of blocks: ')\n",
    "    print('Decrypted text is:', decryptAll(t, p, q, eText))"
   ]
  },
  {
   "cell_type": "code",
   "execution_count": null,
   "metadata": {},
   "outputs": [],
   "source": []
  }
 ],
 "metadata": {
  "kernelspec": {
   "display_name": "Python 3",
   "language": "python",
   "name": "python3"
  },
  "language_info": {
   "codemirror_mode": {
    "name": "ipython",
    "version": 3
   },
   "file_extension": ".py",
   "mimetype": "text/x-python",
   "name": "python",
   "nbconvert_exporter": "python",
   "pygments_lexer": "ipython3",
   "version": "3.6.9"
  }
 },
 "nbformat": 4,
 "nbformat_minor": 2
}
